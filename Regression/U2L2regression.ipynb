{
 "cells": [
  {
   "cell_type": "code",
   "execution_count": 5,
   "metadata": {},
   "outputs": [],
   "source": [
    "import tensorflow as tf\n",
    "import pandas as pd\n",
    "from matplotlib import pyplot as plt"
   ]
  },
  {
   "cell_type": "code",
   "execution_count": 6,
   "metadata": {},
   "outputs": [
    {
     "name": "stdout",
     "output_type": "stream",
     "text": [
      "Defined create_model and train_model\n"
     ]
    }
   ],
   "source": [
    "#Define the functions that build and train a model\n",
    "def build_model(my_learning_rate):\n",
    "\n",
    "    # Most simple tf.keras models are sequential.\n",
    "    # A sequential model contains one or more layers.\n",
    "    model = tf.keras.models.Sequential()\n",
    "    # Describe the topography of the model.\n",
    "    # The topography of a simple linear regression model\n",
    "    # is a single node in a single layer.\n",
    "    model.add(tf.keras.layers.Dense(units=1,\n",
    "    input_shape=(1,)))\n",
    "    # Compile the model topography into code that\n",
    "    # TensorFlow can efficiently execute. Configure\n",
    "    # training to minimize the model's mean squared error.\n",
    "    model.compile(optimizer=tf.keras.optimizers.RMSprop(lr=my_learning_rate),\n",
    "                loss=\"mean_squared_error\",\n",
    "                metrics=[tf.keras.metrics.RootMeanSquaredError()])\n",
    "    return model\n",
    "\n",
    "def train_model(model, feature, label, epochs, batch_size):\n",
    "    \"\"\"Train the model by feeding it data.\"\"\"\n",
    "    # Feed the feature values and the label values to the\n",
    "    # model. The model will train for the specified number\n",
    "    # of epochs, gradually learning how the feature values\n",
    "    # relate to the label values.\n",
    "    history = model.fit(x=feature,\n",
    "    y=label,\n",
    "    batch_size=batch_size,\n",
    "    epochs=epochs)  \n",
    "    # Gather the trained model's weight and bias.\n",
    "    trained_weight = model.get_weights()[0]\n",
    "    trained_bias = model.get_weights()[1]\n",
    "    # The list of epochs is stored separately from the\n",
    "    # rest of history.\n",
    "    epochs = history.epoch\n",
    "    # Gather the history (a snapshot) of each epoch.\n",
    "    hist = pd.DataFrame(history.history)\n",
    "    # Specifically gather the model's root mean\n",
    "    #squared error at each epoch.\n",
    "    rmse = hist[\"root_mean_squared_error\"]\n",
    "    return trained_weight, trained_bias, epochs, rmse\n",
    "print(\"Defined create_model and train_model\")\n"
   ]
  },
  {
   "cell_type": "code",
   "execution_count": 7,
   "metadata": {},
   "outputs": [
    {
     "name": "stdout",
     "output_type": "stream",
     "text": [
      "Defined the plot_the_model and plot_the_loss_curve functions.\n"
     ]
    }
   ],
   "source": [
    "#Define the plotting functions\n",
    "def plot_the_model(trained_weight, trained_bias, feature, label):\n",
    "    \"\"\"Plot the trained model against the training feature and label.\"\"\"\n",
    "    # Label the axes.\n",
    "    plt.xlabel(\"feature\")\n",
    "    plt.ylabel(\"label\")\n",
    "    # Plot the feature values vs. label values.\n",
    "    plt.scatter(feature, label)\n",
    "    # Create a red line representing the model. The red line starts\n",
    "    # at coordinates (x0, y0) and ends at coordinates (x1, y1).\n",
    "    x0 = 0\n",
    "    y0 = trained_bias\n",
    "    x1 = my_feature[-1]\n",
    "    y1 = trained_bias + (trained_weight * x1)\n",
    "    plt.plot([x0, x1], [y0, y1], c='r')\n",
    "    # Render the scatter plot and the red line.\n",
    "    plt.show()\n",
    "    return\n",
    "def plot_the_loss_curve(epochs, rmse):\n",
    "    \"\"\"Plot the loss curve, which shows loss vs. epoch\"\"\"\n",
    "    plt.figure()\n",
    "    plt.xlabel(\"Epoch\")\n",
    "    plt.ylabel(\"Root Mean Squared Error\")\n",
    "    plt.plot(epochs, rmse, label=\"Loss\")\n",
    "    plt.legend()\n",
    "    plt.ylim([rmse.min()*0.97, rmse.max()])\n",
    "    plt.show()\n",
    "\n",
    "print(\"Defined the plot_the_model and plot_the_loss_curve functions.\")"
   ]
  },
  {
   "cell_type": "code",
   "execution_count": 8,
   "metadata": {},
   "outputs": [
    {
     "name": "stdout",
     "output_type": "stream",
     "text": [
      "Epoch 1/10\n"
     ]
    },
    {
     "name": "stderr",
     "output_type": "stream",
     "text": [
      "C:\\Users\\Justin\\AppData\\Roaming\\Python\\Python39\\site-packages\\keras\\optimizer_v2\\rmsprop.py:130: UserWarning: The `lr` argument is deprecated, use `learning_rate` instead.\n",
      "  super(RMSprop, self).__init__(name, **kwargs)\n"
     ]
    },
    {
     "name": "stdout",
     "output_type": "stream",
     "text": [
      "1/1 [==============================] - 0s 309ms/step - loss: 1297.2310 - root_mean_squared_error: 36.0171\n",
      "Epoch 2/10\n",
      "1/1 [==============================] - 0s 3ms/step - loss: 1278.5059 - root_mean_squared_error: 35.7562\n",
      "Epoch 3/10\n",
      "1/1 [==============================] - 0s 4ms/step - loss: 1265.0531 - root_mean_squared_error: 35.5676\n",
      "Epoch 4/10\n",
      "1/1 [==============================] - 0s 5ms/step - loss: 1253.8669 - root_mean_squared_error: 35.4100\n",
      "Epoch 5/10\n",
      "1/1 [==============================] - 0s 4ms/step - loss: 1243.9940 - root_mean_squared_error: 35.2703\n",
      "Epoch 6/10\n",
      "1/1 [==============================] - 0s 3ms/step - loss: 1234.9923 - root_mean_squared_error: 35.1425\n",
      "Epoch 7/10\n",
      "1/1 [==============================] - 0s 6ms/step - loss: 1226.6156 - root_mean_squared_error: 35.0231\n",
      "Epoch 8/10\n",
      "1/1 [==============================] - 0s 4ms/step - loss: 1218.7111 - root_mean_squared_error: 34.9100\n",
      "Epoch 9/10\n",
      "1/1 [==============================] - 0s 4ms/step - loss: 1211.1760 - root_mean_squared_error: 34.8020\n",
      "Epoch 10/10\n",
      "1/1 [==============================] - 0s 6ms/step - loss: 1203.9385 - root_mean_squared_error: 34.6978\n"
     ]
    },
    {
     "name": "stderr",
     "output_type": "stream",
     "text": [
      "C:\\Python39\\lib\\site-packages\\numpy\\core\\shape_base.py:65: VisibleDeprecationWarning: Creating an ndarray from ragged nested sequences (which is a list-or-tuple of lists-or-tuples-or ndarrays with different lengths or shapes) is deprecated. If you meant to do this, you must specify 'dtype=object' when creating the ndarray.\n",
      "  ary = asanyarray(ary)\n"
     ]
    },
    {
     "data": {
      "image/png": "[encoded data removed]",
      "text/plain": [
       "<Figure size 432x288 with 1 Axes>"
      ]
     },
     "metadata": {
      "needs_background": "light"
     },
     "output_type": "display_data"
    },
    {
     "data": {
      "image/png": "[encoded data removed]",
      "text/plain": [
       "<Figure size 432x288 with 1 Axes>"
      ]
     },
     "metadata": {
      "needs_background": "light"
     },
     "output_type": "display_data"
    }
   ],
   "source": [
    "my_feature = ([1.0, 2.0, 3.0, 4.0, 5.0, 6.0, 7.0, 8.0, 9.0, 10.0, 11.0, 12.0])\n",
    "my_label = ([5.0, 8.8, 9.6, 14.2, 18.8, 19.5, 21.4, 26.8, 28.9, 32.0, 33.8, 38.2])\n",
    "learning_rate=0.01\n",
    "epochs=10\n",
    "my_batch_size=12\n",
    "my_model = build_model(learning_rate)\n",
    "trained_weight, trained_bias, epochs, rmse = train_model(my_model, my_feature,\n",
    "my_label, epochs,\n",
    "my_batch_size)\n",
    "plot_the_model(trained_weight, trained_bias, my_feature, my_label)\n",
    "plot_the_loss_curve(epochs, rmse)\n"
   ]
  }
 ],
 "metadata": {
  "interpreter": {
   "hash": "63fd5069d213b44bf678585dea6b12cceca9941eaf7f819626cde1f2670de90d"
  },
  "kernelspec": {
   "display_name": "Python 3.9.5 64-bit",
   "language": "python",
   "name": "python3"
  },
  "language_info": {
   "codemirror_mode": {
    "name": "ipython",
    "version": 3
   },
   "file_extension": ".py",
   "mimetype": "text/x-python",
   "name": "python",
   "nbconvert_exporter": "python",
   "pygments_lexer": "ipython3",
   "version": "3.9.5"
  },
  "orig_nbformat": 4
 },
 "nbformat": 4,
 "nbformat_minor": 2
}
