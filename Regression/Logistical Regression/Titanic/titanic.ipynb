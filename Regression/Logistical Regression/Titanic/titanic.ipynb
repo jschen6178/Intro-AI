{
 "cells": [
  {
   "cell_type": "code",
   "execution_count": 55,
   "metadata": {},
   "outputs": [],
   "source": [
    "# Import Statements\n",
    "from numpy import genfromtxt\n",
    "import numpy as np\n",
    "import pandas as pd\n",
    "from matplotlib import pyplot as plt\n",
    "from sklearn.model_selection import train_test_split\n",
    "import matplotlib.animation as animation"
   ]
  },
  {
   "cell_type": "code",
   "execution_count": 56,
   "metadata": {},
   "outputs": [
    {
     "name": "stderr",
     "output_type": "stream",
     "text": [
      "C:\\Users\\Justin\\AppData\\Local\\Temp\\ipykernel_2804\\1826599550.py:5: FutureWarning: Dropping of nuisance columns in DataFrame reductions (with 'numeric_only=None') is deprecated; in a future version this will raise TypeError.  Select only valid columns before calling the reduction.\n",
      "  column_means = df_train.mean()\n"
     ]
    },
    {
     "name": "stdout",
     "output_type": "stream",
     "text": [
      "Initial weights: [[0.5]\n",
      " [0.5]\n",
      " [0.5]\n",
      " [0.5]]\n",
      "Learning rate of 0.3 was used. Big learning rate is good!! Do not use small learning rate.\n",
      "[942.29751704]\n",
      "Final weights:  [[ 3.97441181]\n",
      " [-3.07906178]\n",
      " [-2.4768907 ]\n",
      " [-1.74916399]]\n",
      "Final Cost:  [364.84254092]\n"
     ]
    },
    {
     "data": {
      "image/png": "[encoded data removed]",
      "text/plain": [
       "<Figure size 432x288 with 1 Axes>"
      ]
     },
     "metadata": {
      "needs_background": "light"
     },
     "output_type": "display_data"
    },
    {
     "name": "stdout",
     "output_type": "stream",
     "text": [
      "Test data (10 percent of all data)\n",
      "Tested Accuracy 83.3333 percent\n"
     ]
    }
   ],
   "source": [
    "# use pandas to read csv file of training data\n",
    "df_train = pd.read_csv(\"Titanic_train.csv\")\n",
    "# change sex from a string data format to a binary format\n",
    "df_train[\"Sex\"]= df_train[\"Sex\"].map({\"male\":1, \"female\":0})\n",
    "\n",
    "# replacing all unknown values with the mean value of the respective column\n",
    "column_means = df_train.mean()\n",
    "df_train = df_train.fillna(column_means)\n",
    "# x1 contains the 3 training values we are interested in: class, age, and sex\n",
    "x1 = df_train.iloc[:, [2, 4, 5]]\n",
    "# X_total adds the bias column\n",
    "X_Total = np.c_[np.ones(x1.shape[0]),x1]\n",
    "\"\"\"\n",
    "feature engineering block comment\n",
    "to summarize, the above code aggregated all the explanatory variables\n",
    "below, we feature scale all the variables by dividing through by the max in each column\n",
    "\n",
    "afterward, the Y values are retrieved using iloc. Y values describe whether a\n",
    "passenger survived or not, and is a binary variable.\n",
    "finally, train_test_split is used to split all of this into training (90 percent) and test (10 percent)\n",
    "\"\"\"\n",
    "for i in range(len(X_Total[0])):\n",
    "    X_Total[:, i] = (X_Total[:, i])/X_Total[:, i].max()\n",
    "Y_Total = np.c_[df_train.iloc[:, 1]]\n",
    "\n",
    "X_Train, X_Test, Y_Train, Y_Test = train_test_split(X_Total, Y_Total, test_size = 0.1)\n",
    "\n",
    "\"\"\"\n",
    "calcCost function block comment\n",
    "exponent calculates the exponent that will be raised for the sigmoid function\n",
    "predictions are found using sigmoid function\n",
    "reshaped in order to make looping nicer\n",
    "cost function is done using if statements, costs appended and summed in costList\n",
    "\"\"\"\n",
    "def calcCost(X,W,Y):\n",
    "    exponent = -1*np.dot(X,W)\n",
    "    predictions = 1/(1+np.exp(exponent))\n",
    "    predictions = np.reshape(predictions, Y.shape)\n",
    "    costList = []\n",
    "    for i in range(Y.size):\n",
    "        if Y[i] == 0:\n",
    "            costList.append(-np.log(1-predictions[i]))\n",
    "            \n",
    "        elif Y[i] == 1:\n",
    "            costList.append(-np.log(predictions[i]))\n",
    "            \n",
    "    cost = sum(costList)\n",
    "    return cost\n",
    "\n",
    "\"\"\"\n",
    "calcGradient block comment\n",
    "applies the logistic regression gradient function with some \n",
    "reshaping in order to return an appropriately dimensioned gradient\n",
    "\"\"\"\n",
    "def calcGradient(X,W,Y):\n",
    "    exponent = -1*np.dot(X,W)\n",
    "    predictions = 1/(1+np.exp(exponent))\n",
    "    cost = predictions-np.reshape(Y, (len(Y),1))    \n",
    "    grad = 1/len(Y)*(np.dot(np.reshape(cost, (len(cost[0]), len(cost))), X))\n",
    "    return np.reshape(grad, (len(grad[0]), 1))\n",
    "\n",
    "\n",
    "X = X_Train\n",
    "Y = Y_Train\n",
    "\n",
    "numCols = len(X[0])\n",
    "\n",
    "W = np.zeros((numCols, 1)) + 0.5\n",
    "print(\"Initial weights:\", W)\n",
    "\n",
    "lrList = [.3,.002]\n",
    "\n",
    "lr = lrList[0]\n",
    "print(\"Learning rate of \" + str(lr) + \" was used. Big learning rate is good!! Do not use small learning rate.\")\n",
    "#set up the cost array for graphing\n",
    "costArray = []\n",
    "costArray.append(calcCost(X, W, Y))\n",
    "#initalize while loop flags\n",
    "finished = False\n",
    "count =0\n",
    "\n",
    "\"\"\"\n",
    "logistic regression loop block comment\n",
    "same as linear regression\n",
    "calculates gradient, updates weights\n",
    "checks if gradient is uber tiny, if not, keep going until\n",
    "specified number of trials.\n",
    "weights are updated with learning rate specified above\n",
    "\"\"\"\n",
    "\n",
    "while (not finished and count <2000):\n",
    "    gradient = calcGradient(X,W,Y)\n",
    "    \n",
    "    W = W - gradient*lr\n",
    "    costArray.append(calcCost(X, W, Y))\n",
    "    lengthOfGradientVector = np.linalg.norm(gradient)\n",
    "    if (lengthOfGradientVector < .001):\n",
    "        finished=True\n",
    "    count+=1\n",
    "print(\"Final weights: \", W)\n",
    "print(\"Final Cost: \", calcCost(X,W,Y))\n",
    "# Create figure objects\n",
    "fig = plt.figure()\n",
    "ax = fig.add_axes([0.1,0.1,0.8,0.8]\n",
    "ax.plot(np.arange(len(costArray)), costArray, \"ro\", label = \"cost\")\n",
    "ax.set_title(\"Cost as weights are changed\")\n",
    "ax.set_xlabel(\"iteration\")\n",
    "ax.set_ylabel(\"Costs\")\n",
    "ax.legend()\n",
    "plt.show()\n",
    "\n",
    "\"\"\"\n",
    "accuracy calculation block comment\n",
    "stick the weights with the testing data and round the values in order to give\n",
    "a 0 or 1 prediction value\n",
    "total correct / total values = accuracy\n",
    "\"\"\"\n",
    "correct = 0\n",
    "\n",
    "test_preds = np.round_(1/(1+np.exp(-1*np.dot(X_Test, W))))\n",
    "\n",
    "for i in range(len(test_preds)):\n",
    "    if (test_preds[i]) == Y_Test[i]:\n",
    "        correct += 1\n",
    "\n",
    "accuracy = correct/len(test_preds)\n",
    "print(\"Test data (10 percent of all data)\")\n",
    "print(\"Tested Accuracy \" + str(round(accuracy*100, 4)) + \" percent\")\n",
    "\n"
   ]
  }
 ],
 "metadata": {
  "interpreter": {
   "hash": "63fd5069d213b44bf678585dea6b12cceca9941eaf7f819626cde1f2670de90d"
  },
  "kernelspec": {
   "display_name": "Python 3.9.5 64-bit",
   "language": "python",
   "name": "python3"
  },
  "language_info": {
   "codemirror_mode": {
    "name": "ipython",
    "version": 3
   },
   "file_extension": ".py",
   "mimetype": "text/x-python",
   "name": "python",
   "nbconvert_exporter": "python",
   "pygments_lexer": "ipython3",
   "version": "3.9.5"
  },
  "orig_nbformat": 4
 },
 "nbformat": 4,
 "nbformat_minor": 2
}
