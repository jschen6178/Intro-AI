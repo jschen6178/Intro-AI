{
 "cells": [
  {
   "cell_type": "code",
   "execution_count": 4,
   "metadata": {},
   "outputs": [
    {
     "name": "stdout",
     "output_type": "stream",
     "text": [
      "[[-0.5        -0.22727273 -0.40909091]\n",
      " [ 0.5         0.22727273  0.40909091]\n",
      " [-0.5        -0.22727273 -0.40909091]\n",
      " [ 0.5         0.22727273  0.40909091]\n",
      " [-0.5        -0.22727273 -0.40909091]\n",
      " [ 0.5         0.22727273  0.40909091]\n",
      " [-0.5        -0.22727273 -0.40909091]\n",
      " [ 0.5         0.22727273  0.40909091]\n",
      " [ 0.5         0.22727273  0.40909091]\n",
      " [ 0.5         0.22727273  0.40909091]\n",
      " [ 0.5         0.22727273  0.40909091]]\n"
     ]
    }
   ],
   "source": [
    "\n",
    "# Import Statements\n",
    "import numpy as np\n",
    "from matplotlib import pyplot as plt\n",
    "import matplotlib.animation as animation\n",
    "\n",
    "\n",
    "data = np.array([[5,10,1], [5,6,0], [-4,0,1], \n",
    "[-5,-6,0], [4,8,1], [0,0,0], [-6,4,1], [4,0,0], \n",
    "[2,-5,0], [4,-5,0], [-4,-3,0] ]).astype(float)\n",
    "data = np.c_[np.ones(data.shape[0]), data]\n",
    "X = data[:, 0:-1]\n",
    "Y = data[:, -1]\n",
    "W = [0,0,0]\n",
    "\n",
    "exponent = -1*np.dot(X,W)\n",
    "predictions = 1/(1+np.exp(exponent))\n",
    "predictions = np.reshape(predictions, Y.shape)\n",
    "costList = []\n",
    "for i in range(Y.size):\n",
    "    if Y[i] == 0:\n",
    "        costList.append(-np.log(1-predictions[i]))\n",
    "    else:\n",
    "        costList.append(-np.log(predictions[i]))\n",
    "cost = sum(costList)\n",
    "\n",
    "\n",
    "\n",
    "exponent = -1*np.dot(X,W)\n",
    "predictions = 1/(1+np.exp(exponent))\n",
    "cost = predictions-np.reshape(Y, (len(Y),1))    \n",
    "grad = 1/len(Y)*(np.dot(np.reshape(cost, (len(cost[0]), len(cost))), X))\n",
    "print(grad)\n",
    "\n"
   ]
  }
 ],
 "metadata": {
  "interpreter": {
   "hash": "63fd5069d213b44bf678585dea6b12cceca9941eaf7f819626cde1f2670de90d"
  },
  "kernelspec": {
   "display_name": "Python 3.9.5 64-bit",
   "language": "python",
   "name": "python3"
  },
  "language_info": {
   "codemirror_mode": {
    "name": "ipython",
    "version": 3
   },
   "file_extension": ".py",
   "mimetype": "text/x-python",
   "name": "python",
   "nbconvert_exporter": "python",
   "pygments_lexer": "ipython3",
   "version": "3.9.5"
  },
  "orig_nbformat": 4
 },
 "nbformat": 4,
 "nbformat_minor": 2
}
