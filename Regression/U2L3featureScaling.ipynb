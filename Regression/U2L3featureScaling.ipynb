{
 "cells": [
  {
   "cell_type": "code",
   "execution_count": 1,
   "metadata": {},
   "outputs": [],
   "source": [
    "import numpy as np"
   ]
  },
  {
   "cell_type": "code",
   "execution_count": 2,
   "metadata": {},
   "outputs": [
    {
     "name": "stdout",
     "output_type": "stream",
     "text": [
      "[1.2 2.4 3.5 4.7 6.1 7.2 8.3 9.5]\n",
      "[[ 6  5]\n",
      " [11  7]\n",
      " [ 4  8]]\n",
      "[[0. 0. 0.]\n",
      " [0. 0. 0.]]\n"
     ]
    }
   ],
   "source": [
    "one_dimensional_array = np.array([1.2, 2.4, 3.5, 4.7, 6.1, 7.2, 8.3, 9.5])\n",
    "print(one_dimensional_array)\n",
    "two_dimensional_array = np.array([[6, 5], [11, 7], [4, 8]])\n",
    "print(two_dimensional_array)\n",
    "zero_array = np.zeros((2,3))\n",
    "print(zero_array)\n"
   ]
  },
  {
   "cell_type": "code",
   "execution_count": 3,
   "metadata": {},
   "outputs": [
    {
     "name": "stdout",
     "output_type": "stream",
     "text": [
      "[[1. 1. 1. 1. 1. 1.]\n",
      " [1. 1. 1. 1. 1. 1.]\n",
      " [1. 1. 1. 1. 1. 1.]\n",
      " [1. 1. 1. 1. 1. 1.]]\n"
     ]
    }
   ],
   "source": [
    "one_array = np.ones((4,6))\n",
    "print(one_array)"
   ]
  },
  {
   "cell_type": "code",
   "execution_count": 4,
   "metadata": {},
   "outputs": [
    {
     "name": "stdout",
     "output_type": "stream",
     "text": [
      "[ 5  6  7  8  9 10 11]\n",
      "[98 67 54 71 85 62]\n",
      "[0.46940928 0.90457324 0.23323522 0.66058775 0.83401821 0.36721977]\n"
     ]
    }
   ],
   "source": [
    "sequence_of_integers = np.arange(5, 12)\n",
    "print(sequence_of_integers)\n",
    "random_integers_between_50_and_100 = np.random.randint(low=50, high=101, size=(6))\n",
    "print(random_integers_between_50_and_100)\n",
    "random_floats_between_0_and_1 = np.random.random([6])\n",
    "print(random_floats_between_0_and_1)\n"
   ]
  },
  {
   "cell_type": "code",
   "execution_count": 5,
   "metadata": {},
   "outputs": [
    {
     "name": "stdout",
     "output_type": "stream",
     "text": [
      "[[0.92863135 0.87175702 0.78462653]\n",
      " [0.09116703 0.41814138 0.62140341]]\n"
     ]
    }
   ],
   "source": [
    "random_Matrix = np.random.random((2,3))\n",
    "print(random_Matrix)"
   ]
  },
  {
   "cell_type": "code",
   "execution_count": 6,
   "metadata": {},
   "outputs": [
    {
     "name": "stdout",
     "output_type": "stream",
     "text": [
      "[2.46940928 2.90457324 2.23323522 2.66058775 2.83401821 2.36721977]\n",
      "[294 201 162 213 255 186]\n"
     ]
    }
   ],
   "source": [
    "random_floats_between_2_and_3 = random_floats_between_0_and_1 + 2.0\n",
    "print(random_floats_between_2_and_3)\n",
    "random_integers_between_150_and_300 = random_integers_between_50_and_100 * 3\n",
    "print(random_integers_between_150_and_300)"
   ]
  },
  {
   "cell_type": "markdown",
   "metadata": {},
   "source": [
    "## Task 1: Create a linear dataset\n",
    " Your goal is to create a simple dataset consisting of a single feature and a label as follows.\n",
    " 1. Assign a sequence of integers from 6 to 20 (inclusive) to a NumPy array named feature\n",
    " 2. Assign 15 values to a NumPy array named label such that:\n",
    "\n",
    ">label = (3)(feature) + 4\n",
    "\n",
    "For example the first value for label should be\n",
    "\n",
    ">label = (3)(6) + 4 = 22\n"
   ]
  },
  {
   "cell_type": "code",
   "execution_count": 7,
   "metadata": {},
   "outputs": [
    {
     "name": "stdout",
     "output_type": "stream",
     "text": [
      "[ 6  7  8  9 10 11 12 13 14 15 16 17 18 19 20]\n",
      "[22 25 28 31 34 37 40 43 46 49 52 55 58 61 64]\n"
     ]
    }
   ],
   "source": [
    "feature = np.arange(6,21)\n",
    "print(feature)\n",
    "label = 3*feature + 4\n",
    "print(label)"
   ]
  },
  {
   "cell_type": "code",
   "execution_count": 8,
   "metadata": {},
   "outputs": [
    {
     "name": "stdout",
     "output_type": "stream",
     "text": [
      "[-1.52782232  0.37512668  0.3809148   0.23703655  0.05321946  0.68556776\n",
      " -1.56434005  1.39693147 -0.20372056  1.81342561 -0.77819782 -0.29943339\n",
      " -0.77578101  0.3630202   1.48698698]\n",
      "[20.47217768 25.37512668 28.3809148  31.23703655 34.05321946 37.68556776\n",
      " 38.43565995 44.39693147 45.79627944 50.81342561 51.22180218 54.70056661\n",
      " 57.22421899 61.3630202  65.48698698]\n"
     ]
    }
   ],
   "source": [
    "noise = 4* (np.random.random(15)-0.5)   \n",
    "print(noise)\n",
    "label = label+noise\n",
    "print(label)"
   ]
  },
  {
   "cell_type": "code",
   "execution_count": 9,
   "metadata": {},
   "outputs": [
    {
     "name": "stdout",
     "output_type": "stream",
     "text": [
      "[[9.4045174e-01 2.0800000e+02 6.8791211e-01 2.6100000e+02 4.9000000e+01]\n",
      " [7.5770020e-01 1.2100000e+02 9.2307693e-01 1.8900000e+02 9.9000000e+01]\n",
      " [4.9691993e-01 2.0300000e+02 7.2307694e-01 1.1100000e+02 4.4800000e+02]\n",
      " [8.8090348e-01 3.1800000e+02 5.5824178e-01 2.3400000e+02 2.5400000e+02]\n",
      " [5.0718683e-01 1.2300000e+02 6.7032969e-01 2.3900000e+02 3.5700000e+02]\n",
      " [1.0000000e+00 8.5000000e+01 6.9450551e-01 1.4900000e+02 3.7600000e+02]\n",
      " [4.2094457e-01 1.8500000e+02 3.7362638e-01 1.3400000e+02 4.8700000e+02]\n",
      " [4.7227925e-01 2.7500000e+02 1.0000000e+00 5.1000000e+01 4.4100000e+02]\n",
      " [4.8665297e-01 4.8300000e+02 1.0769231e-01 3.1000000e+02 2.6200000e+02]\n",
      " [1.6632444e-01 2.9200000e+02 8.1098902e-01 2.4900000e+02 4.7600000e+02]\n",
      " [8.5831624e-01 2.6900000e+02 5.2967036e-01 3.3900000e+02 2.7200000e+02]\n",
      " [8.0287474e-01 4.6900000e+02 7.6263738e-01 2.9000000e+01 1.3800000e+02]\n",
      " [9.5482546e-01 3.6600000e+02 8.4615386e-01 1.3400000e+02 3.2600000e+02]\n",
      " [4.8459959e-01 4.4200000e+02 2.6153848e-01 4.8400000e+02 3.8900000e+02]\n",
      " [6.8377823e-01 2.8700000e+02 6.3076925e-01 4.6100000e+02 2.3100000e+02]\n",
      " [8.4188914e-01 4.1700000e+02 5.5164838e-01 2.1900000e+02 1.2300000e+02]\n",
      " [3.3059549e-01 1.1300000e+02 1.4065935e-01 4.1000000e+02 2.0800000e+02]\n",
      " [3.7371662e-01 3.2300000e+02 2.6813188e-01 7.2000000e+01 3.4000000e+01]\n",
      " [1.8480493e-02 5.9000000e+01 9.5604396e-01 1.0400000e+02 4.7900000e+02]\n",
      " [5.7700205e-01 2.8200000e+02 2.7912089e-01 1.0800000e+02 6.5000000e+01]]\n"
     ]
    }
   ],
   "source": [
    "\n",
    "np.random.seed(21)\n",
    "t3arr = np.random.randint(1, 501, (20,5))\n",
    "t3arr = t3arr.astype(np.float32)\n",
    "\n",
    "t3arr[:, 0] = (t3arr[:, 0])/t3arr[:, 0].max()\n",
    "t3arr[:, 2] = (t3arr[:, 2])/t3arr[:, 2].max()\n",
    "print(t3arr)\n",
    "#np.random.seed(21)"
   ]
  }
 ],
 "metadata": {
  "interpreter": {
   "hash": "63fd5069d213b44bf678585dea6b12cceca9941eaf7f819626cde1f2670de90d"
  },
  "kernelspec": {
   "display_name": "Python 3.9.5 64-bit",
   "language": "python",
   "name": "python3"
  },
  "language_info": {
   "codemirror_mode": {
    "name": "ipython",
    "version": 3
   },
   "file_extension": ".py",
   "mimetype": "text/x-python",
   "name": "python",
   "nbconvert_exporter": "python",
   "pygments_lexer": "ipython3",
   "version": "3.9.5"
  },
  "orig_nbformat": 4
 },
 "nbformat": 4,
 "nbformat_minor": 2
}
