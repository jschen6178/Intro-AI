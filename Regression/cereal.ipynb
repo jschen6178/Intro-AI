{
 "cells": [
  {
   "cell_type": "code",
   "execution_count": 13,
   "metadata": {},
   "outputs": [],
   "source": [
    "#imports \n",
    "from numpy import genfromtxt\n",
    "import numpy as np\n",
    "from matplotlib import pyplot  as plt\n",
    "\n",
    "\"\"\"\n",
    "-- Block Comment for File Retrieval --\n",
    "genfromtxt() function gets the data from csv's and puts into 2 files\n",
    "data contains the X and Y values for the training dataset\n",
    "test contains the X and Y values for the test dataset\n",
    "\"\"\"\n",
    "\n",
    "file = open(\"Cereal_Train.csv\", 'rb')\n",
    "data = genfromtxt(file, delimiter = \",\")\n",
    "file = open(\"Cereal_Test.csv\", 'rb')\n",
    "test = genfromtxt(file, delimiter = ',')\n"
   ]
  },
  {
   "cell_type": "code",
   "execution_count": 14,
   "metadata": {},
   "outputs": [
    {
     "name": "stdout",
     "output_type": "stream",
     "text": [
      "Average Cereal Score: 42.234358027027035\n",
      "Standard Deviation of Cereal Score:13.700434866515407\n",
      "Descriptive statistics\n",
      "Normalized columns in order are: Calories, Fat, Carbs, Sugars\n",
      "column 1\n",
      "Mean: 0.6680743243243243\n",
      "Std: 0.12240795445449063\n",
      "column 2\n",
      "Mean: 0.3288288288288288\n",
      "Std: 0.2976042641289897\n",
      "column 3\n",
      "Mean: 0.6345475910693301\n",
      "Std: 0.18340976424259084\n",
      "column 4\n",
      "Mean: 0.4702702702702704\n",
      "Std: 0.2936550021493152\n"
     ]
    }
   ],
   "source": [
    "\"\"\"\n",
    "-- Block Comment for Feature Selection --\n",
    "get calories, fat, carbs, sugars from both training and test \n",
    "calories is the 3rd column, fat is the 5th, carbs 8th, sugars 9th.\n",
    "Hence, the indices 2, 4, 7, and 8 are used to retrieve the specific features.\n",
    "np.c_ puts these 4 columns of data into X (n x 4 array) for training, T is for testing the model\n",
    "\"\"\"\n",
    "X = np.c_[data[:, 2], data[:, 4], data[:, 7], data[:, 8]]\n",
    "X = np.delete(X, 0, 0)\n",
    "T = np.c_[test[:, 2], test[:, 4], test[:, 7], test[:, 8]]\n",
    "T = np.delete(T, 0, 0)\n",
    "\n",
    "\"\"\"\n",
    "-- Block comment for normalization -- \n",
    "normalizing by column the training (X) and testing (T) data with maximum value of columns\n",
    "training data is now all between 0 and 1\n",
    "for loop iterates through the columns and takes each value within the column\n",
    "and divides it by the maximum value of the column\n",
    "\"\"\"\n",
    "for i in range(len(X[0])):\n",
    "    X[:, i] = (X[:, i])/X[:, i].max()\n",
    "    T[:, i] = (T[:, i])/T[:, i].max()\n",
    "\n",
    "#get the Y (dependent variable) data - the Healthiness Score\n",
    "Y = data[1:, -1]\n",
    "#some descriptive statistics for the Y (cereal score)\n",
    "print(\"Average Cereal Score: \" + str(np.mean(Y)))\n",
    "print(\"Standard Deviation of Cereal Score:\" + str(np.std(Y)))\n",
    "#get the Y values for the Test data\n",
    "YT = test[1:, -1]\n",
    "\n",
    "#descriptive statistics per column, mean and standard deviation\n",
    "print(\"Descriptive statistics\\nNormalized columns in order are: Calories, Fat, Carbs, Sugars\")\n",
    "\n",
    "for i in range(len(X[0])):\n",
    "    xcol = X[:, i]\n",
    "    print(\"column \" + str(i+1))\n",
    "    print(\"Mean: \" + str(np.mean(xcol)))\n",
    "    print(\"Std: \" + str(np.std(xcol)))"
   ]
  },
  {
   "cell_type": "code",
   "execution_count": 15,
   "metadata": {},
   "outputs": [
    {
     "name": "stdout",
     "output_type": "stream",
     "text": [
      "Initial cost: \n",
      "985.7214567433666\n",
      "Initial Weights: \n",
      "[[0]\n",
      " [0]\n",
      " [0]\n",
      " [0]]\n"
     ]
    },
    {
     "data": {
      "image/png": "[encoded data removed]",
      "text/plain": [
       "<Figure size 432x288 with 1 Axes>"
      ]
     },
     "metadata": {
      "needs_background": "light"
     },
     "output_type": "display_data"
    },
    {
     "name": "stdout",
     "output_type": "stream",
     "text": [
      "Final cost\n",
      "139.57672228676194\n",
      "Final Weights: \n",
      "[[ 35.16507918]\n",
      " [ -4.43753087]\n",
      " [ 38.81858057]\n",
      " [-15.41930151]]\n"
     ]
    }
   ],
   "source": [
    "#initialize weights\n",
    "W = np.array([[0],[0],[0],[0]])\n",
    "\n",
    "\"\"\"\n",
    "-- Block Comment for calcCost -- \n",
    "computes Cost, a measure of how bad a model is\n",
    "Input variables: X - predictors, W - weights, Y - dependent variable\n",
    "cost formula is 1/2 the average of the squared residuals \n",
    "returns cost, a float\n",
    "\"\"\"\n",
    "def calcCost(X,W,Y):\n",
    "    predictions = np.dot(X,W)\n",
    "    predictions = np.reshape(predictions, Y.shape)\n",
    "    cost = 1/(2*len(Y))*np.sum((predictions-Y)**2)\n",
    "    return cost\n",
    "\n",
    "\"\"\"\n",
    "-- Block Comment for calcGradient --\n",
    "computes the gradient for each column of X\n",
    "given X - predictors, W - weights, Y - dependent variable\n",
    "reshapes some arrays temporarily to allow for correct dot products\n",
    "gradient calculated by averaging the value (cost)*(x_i) over all data points\n",
    "returns the gradient for each column in X dataset, a 1 x 4 column in our case\n",
    "\"\"\"\n",
    "def calcGradient(X,W,Y):\n",
    "    predictions = np.dot(X,W)\n",
    "    cost = predictions-np.reshape(Y, (len(Y),1))\n",
    "    grad = 1/len(Y)*(np.dot(np.reshape(cost, (len(cost[0]), len(cost))), X))\n",
    "    return np.reshape(grad, (len(grad[0]), 1))\n",
    "\n",
    "#set up some learing rates\n",
    "lrList = [.3,.3]\n",
    "lr = lrList[1]\n",
    "#set up costArray, will hold all the costs in from the while loops\n",
    "costArray = []\n",
    "costArray.append(calcCost(X, W, Y))\n",
    "#initial cost and weights output\n",
    "print(\"Initial cost: \")\n",
    "print(calcCost(X,W,Y))\n",
    "print(\"Initial Weights: \")\n",
    "print(W)\n",
    "#initalize while Loop variables\n",
    "finished = False\n",
    "count =0\n",
    "\"\"\"\n",
    "-- Block Comment for linear regression loop --\n",
    "-big while loop that does gradient \n",
    "-first calculates the gradient, then updates weights\n",
    "-calculates new cost with the new weights\n",
    "-loops back to use the new weights in another gradient calculation\n",
    "-once loop is over, final weights have been calculated\n",
    "-breaks once itereated more than 100 or if gradient vector is less than 0.0001\n",
    "\"\"\"\n",
    "while (not finished and count <100):\n",
    "    gradient = calcGradient(X,W,Y)\n",
    "    \n",
    "    #update weights\n",
    "    W = W - gradient*lr\n",
    "    \n",
    "    \n",
    "    costArray.append(calcCost(X, W, Y))\n",
    "    lengthOfGradientVector = np.linalg.norm(gradient)\n",
    "    if (lengthOfGradientVector < .0001):\n",
    "        finished=True\n",
    "    count+=1\n",
    "\n",
    "# Create graphs\n",
    "fig = plt.figure()\n",
    "ax = fig.add_axes([0.1,0.1,0.8,0.8])# [left, bottom, width, height]\n",
    "ax.plot(np.arange(len(costArray)), costArray, \"ro\", label = \"cost\")\n",
    "ax.set_title(\"Cost as weights are changed\")\n",
    "ax.set_xlabel(\"iteration\")\n",
    "ax.set_ylabel(\"Costs\")\n",
    "ax.legend()\n",
    "plt.show()\n",
    "\n",
    "#Final cost, final weights\n",
    "print(\"Final cost\")\n",
    "print(calcCost(X,W,Y))\n",
    "print(\"Final Weights: \")\n",
    "print(W)"
   ]
  },
  {
   "cell_type": "code",
   "execution_count": 16,
   "metadata": {},
   "outputs": [
    {
     "name": "stdout",
     "output_type": "stream",
     "text": [
      "Predicted Test data Values\n",
      "[[30.83567902 65.19238996 57.50728231]]\n",
      "True values\n",
      "[33.983679 72.801787 53.131324]\n",
      "Residuals\n",
      "[[-3.14799998 -7.60939704  4.37595831]]\n",
      "Test data cost: \n",
      "14.49363971342215\n"
     ]
    }
   ],
   "source": [
    "#run model on test data, using final weights W and test data T\n",
    "#YT is the actual healthiness score of the test data\n",
    "Tpred = np.dot(T,W)\n",
    "testCost = calcCost(T,W,YT)\n",
    "Tpred = np.reshape(Tpred, [1,3])\n",
    "print(\"Predicted Test data Values\")\n",
    "print(Tpred)\n",
    "print(\"True values\")\n",
    "print(YT)\n",
    "print(\"Residuals\")\n",
    "print(Tpred - YT)\n",
    "print(\"Test data cost: \")\n",
    "print(testCost)"
   ]
  }
 ],
 "metadata": {
  "interpreter": {
   "hash": "63fd5069d213b44bf678585dea6b12cceca9941eaf7f819626cde1f2670de90d"
  },
  "kernelspec": {
   "display_name": "Python 3.9.5 64-bit",
   "language": "python",
   "name": "python3"
  },
  "language_info": {
   "codemirror_mode": {
    "name": "ipython",
    "version": 3
   },
   "file_extension": ".py",
   "mimetype": "text/x-python",
   "name": "python",
   "nbconvert_exporter": "python",
   "pygments_lexer": "ipython3",
   "version": "3.9.5"
  },
  "orig_nbformat": 4
 },
 "nbformat": 4,
 "nbformat_minor": 2
}
