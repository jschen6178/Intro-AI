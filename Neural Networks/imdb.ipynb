{
 "cells": [
  {
   "cell_type": "code",
   "execution_count": 14,
   "metadata": {},
   "outputs": [],
   "source": [
    "import tensorflow as tf\n",
    "from tensorflow import keras\n",
    "from keras.datasets import imdb\n",
    "from keras import models\n",
    "from keras import layers\n",
    "import numpy as np\n",
    "import matplotlib.pyplot as plt\n",
    "from keras import optimizers\n",
    "import matplotlib.pyplot as plt"
   ]
  },
  {
   "cell_type": "code",
   "execution_count": 15,
   "metadata": {},
   "outputs": [],
   "source": [
    "inputNum = 500\n",
    "(train_data, train_labels), (test_data, test_labels) = imdb.load_data(num_words=inputNum, skip_top=10, oov_char=2)\n",
    "\n",
    "# Create an all-zero matrix of shape (len(sequences), dimension)\n",
    "# set specific indices of results[i] to 1s\n",
    "def vectorize_sequences(sequences, dimension=inputNum):\n",
    "    results = np.zeros((len(sequences), dimension))\n",
    "    for i, sequence in enumerate(sequences):\n",
    "        results[i, sequence] = 1.  \n",
    "    return results\n",
    "# vectorized training data\n",
    "x_train = vectorize_sequences(train_data)\n",
    "x_test = vectorize_sequences(test_data)\n",
    "y_train = np.asarray(train_labels).astype('float32')\n",
    "y_test = np.asarray(test_labels).astype('float32')\n",
    "\n",
    "model = models.Sequential()\n",
    "model.add(layers.Dense(16, activation='relu', input_shape=(inputNum,)))\n",
    "model.add(layers.Dense(16, activation='relu'))\n",
    "model.add(layers.Dense(1, activation='sigmoid'))\n",
    "\n",
    "opt = keras.optimizers.Adam(learning_rate=0.01)\n",
    "model.compile(optimizer=opt,\n",
    "              loss='binary_crossentropy',\n",
    "              metrics=['accuracy'])\n"
   ]
  },
  {
   "cell_type": "code",
   "execution_count": 16,
   "metadata": {},
   "outputs": [
    {
     "name": "stdout",
     "output_type": "stream",
     "text": [
      "Epoch 1/20\n",
      "30/30 [==============================] - 1s 6ms/step - loss: 0.5055 - accuracy: 0.7547 - val_loss: 0.4163 - val_accuracy: 0.8184\n",
      "Epoch 2/20\n",
      "30/30 [==============================] - 0s 3ms/step - loss: 0.3846 - accuracy: 0.8315 - val_loss: 0.3931 - val_accuracy: 0.8266\n",
      "Epoch 3/20\n",
      "30/30 [==============================] - 0s 2ms/step - loss: 0.3758 - accuracy: 0.8380 - val_loss: 0.3894 - val_accuracy: 0.8281\n",
      "Epoch 4/20\n",
      "30/30 [==============================] - 0s 3ms/step - loss: 0.3715 - accuracy: 0.8381 - val_loss: 0.4005 - val_accuracy: 0.8202\n",
      "Epoch 5/20\n",
      "30/30 [==============================] - 0s 3ms/step - loss: 0.3645 - accuracy: 0.8393 - val_loss: 0.3997 - val_accuracy: 0.8183\n",
      "Epoch 6/20\n",
      "30/30 [==============================] - 0s 3ms/step - loss: 0.3539 - accuracy: 0.8421 - val_loss: 0.3824 - val_accuracy: 0.8306\n",
      "Epoch 7/20\n",
      "30/30 [==============================] - 0s 3ms/step - loss: 0.3453 - accuracy: 0.8468 - val_loss: 0.3871 - val_accuracy: 0.8255\n",
      "Epoch 8/20\n",
      "30/30 [==============================] - 0s 3ms/step - loss: 0.3412 - accuracy: 0.8485 - val_loss: 0.3910 - val_accuracy: 0.8234\n",
      "Epoch 9/20\n",
      "30/30 [==============================] - 0s 3ms/step - loss: 0.3359 - accuracy: 0.8492 - val_loss: 0.3957 - val_accuracy: 0.8236\n",
      "Epoch 10/20\n",
      "30/30 [==============================] - 0s 2ms/step - loss: 0.3286 - accuracy: 0.8540 - val_loss: 0.3927 - val_accuracy: 0.8242\n",
      "Epoch 11/20\n",
      "30/30 [==============================] - 0s 3ms/step - loss: 0.3222 - accuracy: 0.8561 - val_loss: 0.4321 - val_accuracy: 0.8188\n",
      "Epoch 12/20\n",
      "30/30 [==============================] - 0s 3ms/step - loss: 0.3118 - accuracy: 0.8619 - val_loss: 0.4182 - val_accuracy: 0.8183\n",
      "Epoch 13/20\n",
      "30/30 [==============================] - 0s 3ms/step - loss: 0.2993 - accuracy: 0.8688 - val_loss: 0.4221 - val_accuracy: 0.8155\n",
      "Epoch 14/20\n",
      "30/30 [==============================] - 0s 3ms/step - loss: 0.2925 - accuracy: 0.8725 - val_loss: 0.4372 - val_accuracy: 0.8126\n",
      "Epoch 15/20\n",
      "30/30 [==============================] - 0s 3ms/step - loss: 0.2803 - accuracy: 0.8771 - val_loss: 0.4645 - val_accuracy: 0.8109\n",
      "Epoch 16/20\n",
      "30/30 [==============================] - 0s 3ms/step - loss: 0.2687 - accuracy: 0.8842 - val_loss: 0.4556 - val_accuracy: 0.8079\n",
      "Epoch 17/20\n",
      "30/30 [==============================] - 0s 3ms/step - loss: 0.2580 - accuracy: 0.8900 - val_loss: 0.4808 - val_accuracy: 0.8057\n",
      "Epoch 18/20\n",
      "30/30 [==============================] - 0s 3ms/step - loss: 0.2445 - accuracy: 0.8967 - val_loss: 0.5052 - val_accuracy: 0.7997\n",
      "Epoch 19/20\n",
      "30/30 [==============================] - 0s 3ms/step - loss: 0.2293 - accuracy: 0.9069 - val_loss: 0.5175 - val_accuracy: 0.7952\n",
      "Epoch 20/20\n",
      "30/30 [==============================] - 0s 2ms/step - loss: 0.2304 - accuracy: 0.9029 - val_loss: 0.5495 - val_accuracy: 0.7980\n"
     ]
    }
   ],
   "source": [
    "x_val = x_train[:10000]\n",
    "partial_x_train = x_train[10000:]\n",
    "\n",
    "y_val = y_train[:10000]\n",
    "partial_y_train = y_train[10000:]   \n",
    "\n",
    "history = model.fit(partial_x_train,\n",
    "                    partial_y_train,\n",
    "                    epochs=20,\n",
    "                    batch_size=512,\n",
    "                    validation_data=(x_val, y_val))\n"
   ]
  },
  {
   "cell_type": "code",
   "execution_count": 17,
   "metadata": {},
   "outputs": [
    {
     "name": "stdout",
     "output_type": "stream",
     "text": [
      "469/469 [==============================] - 0s 618us/step - loss: 0.2013 - accuracy: 0.9177\n",
      "train: [0.20130343735218048, 0.9177333116531372]\n",
      "313/313 [==============================] - 0s 638us/step - loss: 0.5495 - accuracy: 0.7980\n",
      "validation: [0.5494676828384399, 0.7979999780654907]\n",
      "782/782 [==============================] - 1s 621us/step - loss: 0.5491 - accuracy: 0.7988\n",
      "all data [0.5491182208061218, 0.798799991607666]\n",
      "history dict.keys(): dict_keys(['loss', 'accuracy', 'val_loss', 'val_accuracy'])\n"
     ]
    }
   ],
   "source": [
    "results = model.evaluate(partial_x_train, partial_y_train)\n",
    "print (\"train:\", results)\n",
    "results = model.evaluate(x_val, y_val)\n",
    "print (\"validation:\", results)\n",
    "results = model.evaluate(x_test, y_test)\n",
    "print (\"all data\", results)\n",
    "\n",
    "history_dict = history.history\n",
    "print(\"history dict.keys():\", history_dict.keys())"
   ]
  },
  {
   "cell_type": "code",
   "execution_count": 18,
   "metadata": {},
   "outputs": [
    {
     "data": {
      "image/png": "[encoded data removed]",
      "text/plain": [
       "<Figure size 432x288 with 1 Axes>"
      ]
     },
     "metadata": {
      "needs_background": "light"
     },
     "output_type": "display_data"
    },
    {
     "data": {
      "image/png": "[encoded data removed]",
      "text/plain": [
       "<Figure size 432x288 with 1 Axes>"
      ]
     },
     "metadata": {
      "needs_background": "light"
     },
     "output_type": "display_data"
    }
   ],
   "source": [
    "acc = history.history['accuracy']\n",
    "val_acc = history.history['val_accuracy']\n",
    "loss = history.history['loss']\n",
    "val_loss = history.history['val_loss']\n",
    "epochs = range(1, len(acc) + 1)\n",
    "fig, ax = plt.subplots()\n",
    "\n",
    "ax.plot(epochs, loss, 'bo', label='Training loss')\n",
    "ax.plot(epochs, val_loss, 'b', label='Validation loss')\n",
    "ax.set(xlabel='Epochs', ylabel='Loss',\n",
    "       title='Training and validation loss')\n",
    "ax.legend()\n",
    "acc_values = history_dict['accuracy']\n",
    "val_acc_values = history_dict['val_accuracy']\n",
    "\n",
    "fig1, ax1 = plt.subplots()\n",
    "ax1.plot(epochs, acc, 'ro', label='Training acc')\n",
    "ax1.plot(epochs, val_acc, 'b', label='Validation acc')\n",
    "ax1.set(xlabel='Epochs', ylabel='Loss',\n",
    "       title='Training and validation accuracy')\n",
    "ax1.legend()\n",
    "plt.show()\n"
   ]
  }
 ],
 "metadata": {
  "interpreter": {
   "hash": "81794d4967e6c3204c66dcd87b604927b115b27c00565d3d43f05ba2f3a2cb0d"
  },
  "kernelspec": {
   "display_name": "Python 3.9.5 64-bit",
   "language": "python",
   "name": "python3"
  },
  "language_info": {
   "codemirror_mode": {
    "name": "ipython",
    "version": 3
   },
   "file_extension": ".py",
   "mimetype": "text/x-python",
   "name": "python",
   "nbconvert_exporter": "python",
   "pygments_lexer": "ipython3",
   "version": "3.9.5"
  },
  "orig_nbformat": 4
 },
 "nbformat": 4,
 "nbformat_minor": 2
}
