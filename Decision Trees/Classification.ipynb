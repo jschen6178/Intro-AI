{
 "cells": [
  {
   "cell_type": "code",
   "execution_count": 115,
   "metadata": {},
   "outputs": [],
   "source": [
    "import sklearn\n",
    "import pandas as pd\n",
    "import numpy as np\n",
    "import matplotlib.pyplot as plt\n",
    "%matplotlib inline"
   ]
  },
  {
   "cell_type": "code",
   "execution_count": 116,
   "metadata": {},
   "outputs": [
    {
     "name": "stdout",
     "output_type": "stream",
     "text": [
      "dict_keys(['data', 'target', 'frame', 'target_names', 'DESCR', 'feature_names', 'filename', 'data_module'])\n",
      "['setosa' 'versicolor' 'virginica']\n",
      "['sepal length (cm)', 'sepal width (cm)', 'petal length (cm)', 'petal width (cm)']\n"
     ]
    }
   ],
   "source": [
    "from sklearn.datasets import load_iris\n",
    "\n",
    "iris = load_iris()\n",
    "\n",
    "print(iris.keys())\n",
    "print(iris[\"target_names\"])\n",
    "print(iris[\"feature_names\"])\n",
    "x = iris.data[2:4]\n",
    "y = iris.target"
   ]
  },
  {
   "cell_type": "code",
   "execution_count": 117,
   "metadata": {},
   "outputs": [
    {
     "data": {
      "text/html": [
       "<div>\n",
       "<style scoped>\n",
       "    .dataframe tbody tr th:only-of-type {\n",
       "        vertical-align: middle;\n",
       "    }\n",
       "\n",
       "    .dataframe tbody tr th {\n",
       "        vertical-align: top;\n",
       "    }\n",
       "\n",
       "    .dataframe thead th {\n",
       "        text-align: right;\n",
       "    }\n",
       "</style>\n",
       "<table border=\"1\" class=\"dataframe\">\n",
       "  <thead>\n",
       "    <tr style=\"text-align: right;\">\n",
       "      <th></th>\n",
       "      <th>sepal length (cm)</th>\n",
       "      <th>sepal width (cm)</th>\n",
       "      <th>petal length (cm)</th>\n",
       "      <th>petal width (cm)</th>\n",
       "      <th>target</th>\n",
       "    </tr>\n",
       "  </thead>\n",
       "  <tbody>\n",
       "    <tr>\n",
       "      <th>42</th>\n",
       "      <td>4.4</td>\n",
       "      <td>3.2</td>\n",
       "      <td>1.3</td>\n",
       "      <td>0.2</td>\n",
       "      <td>0.0</td>\n",
       "    </tr>\n",
       "    <tr>\n",
       "      <th>45</th>\n",
       "      <td>4.8</td>\n",
       "      <td>3.0</td>\n",
       "      <td>1.4</td>\n",
       "      <td>0.3</td>\n",
       "      <td>0.0</td>\n",
       "    </tr>\n",
       "    <tr>\n",
       "      <th>68</th>\n",
       "      <td>6.2</td>\n",
       "      <td>2.2</td>\n",
       "      <td>4.5</td>\n",
       "      <td>1.5</td>\n",
       "      <td>1.0</td>\n",
       "    </tr>\n",
       "    <tr>\n",
       "      <th>74</th>\n",
       "      <td>6.4</td>\n",
       "      <td>2.9</td>\n",
       "      <td>4.3</td>\n",
       "      <td>1.3</td>\n",
       "      <td>1.0</td>\n",
       "    </tr>\n",
       "    <tr>\n",
       "      <th>90</th>\n",
       "      <td>5.5</td>\n",
       "      <td>2.6</td>\n",
       "      <td>4.4</td>\n",
       "      <td>1.2</td>\n",
       "      <td>1.0</td>\n",
       "    </tr>\n",
       "    <tr>\n",
       "      <th>126</th>\n",
       "      <td>6.2</td>\n",
       "      <td>2.8</td>\n",
       "      <td>4.8</td>\n",
       "      <td>1.8</td>\n",
       "      <td>2.0</td>\n",
       "    </tr>\n",
       "    <tr>\n",
       "      <th>102</th>\n",
       "      <td>7.1</td>\n",
       "      <td>3.0</td>\n",
       "      <td>5.9</td>\n",
       "      <td>2.1</td>\n",
       "      <td>2.0</td>\n",
       "    </tr>\n",
       "    <tr>\n",
       "      <th>5</th>\n",
       "      <td>5.4</td>\n",
       "      <td>3.9</td>\n",
       "      <td>1.7</td>\n",
       "      <td>0.4</td>\n",
       "      <td>0.0</td>\n",
       "    </tr>\n",
       "    <tr>\n",
       "      <th>43</th>\n",
       "      <td>5.0</td>\n",
       "      <td>3.5</td>\n",
       "      <td>1.6</td>\n",
       "      <td>0.6</td>\n",
       "      <td>0.0</td>\n",
       "    </tr>\n",
       "    <tr>\n",
       "      <th>60</th>\n",
       "      <td>5.0</td>\n",
       "      <td>2.0</td>\n",
       "      <td>3.5</td>\n",
       "      <td>1.0</td>\n",
       "      <td>1.0</td>\n",
       "    </tr>\n",
       "    <tr>\n",
       "      <th>114</th>\n",
       "      <td>5.8</td>\n",
       "      <td>2.8</td>\n",
       "      <td>5.1</td>\n",
       "      <td>2.4</td>\n",
       "      <td>2.0</td>\n",
       "    </tr>\n",
       "    <tr>\n",
       "      <th>47</th>\n",
       "      <td>4.6</td>\n",
       "      <td>3.2</td>\n",
       "      <td>1.4</td>\n",
       "      <td>0.2</td>\n",
       "      <td>0.0</td>\n",
       "    </tr>\n",
       "    <tr>\n",
       "      <th>75</th>\n",
       "      <td>6.6</td>\n",
       "      <td>3.0</td>\n",
       "      <td>4.4</td>\n",
       "      <td>1.4</td>\n",
       "      <td>1.0</td>\n",
       "    </tr>\n",
       "    <tr>\n",
       "      <th>146</th>\n",
       "      <td>6.3</td>\n",
       "      <td>2.5</td>\n",
       "      <td>5.0</td>\n",
       "      <td>1.9</td>\n",
       "      <td>2.0</td>\n",
       "    </tr>\n",
       "    <tr>\n",
       "      <th>83</th>\n",
       "      <td>6.0</td>\n",
       "      <td>2.7</td>\n",
       "      <td>5.1</td>\n",
       "      <td>1.6</td>\n",
       "      <td>1.0</td>\n",
       "    </tr>\n",
       "  </tbody>\n",
       "</table>\n",
       "</div>"
      ],
      "text/plain": [
       "     sepal length (cm)  sepal width (cm)  petal length (cm)  petal width (cm)  \\\n",
       "42                 4.4               3.2                1.3               0.2   \n",
       "45                 4.8               3.0                1.4               0.3   \n",
       "68                 6.2               2.2                4.5               1.5   \n",
       "74                 6.4               2.9                4.3               1.3   \n",
       "90                 5.5               2.6                4.4               1.2   \n",
       "126                6.2               2.8                4.8               1.8   \n",
       "102                7.1               3.0                5.9               2.1   \n",
       "5                  5.4               3.9                1.7               0.4   \n",
       "43                 5.0               3.5                1.6               0.6   \n",
       "60                 5.0               2.0                3.5               1.0   \n",
       "114                5.8               2.8                5.1               2.4   \n",
       "47                 4.6               3.2                1.4               0.2   \n",
       "75                 6.6               3.0                4.4               1.4   \n",
       "146                6.3               2.5                5.0               1.9   \n",
       "83                 6.0               2.7                5.1               1.6   \n",
       "\n",
       "     target  \n",
       "42      0.0  \n",
       "45      0.0  \n",
       "68      1.0  \n",
       "74      1.0  \n",
       "90      1.0  \n",
       "126     2.0  \n",
       "102     2.0  \n",
       "5       0.0  \n",
       "43      0.0  \n",
       "60      1.0  \n",
       "114     2.0  \n",
       "47      0.0  \n",
       "75      1.0  \n",
       "146     2.0  \n",
       "83      1.0  "
      ]
     },
     "execution_count": 117,
     "metadata": {},
     "output_type": "execute_result"
    }
   ],
   "source": [
    "from sklearn.model_selection import train_test_split\n",
    "x,y = iris.data, iris.target\n",
    "\n",
    "x_train, x_test, y_train, y_test = train_test_split(x, y, test_size=0.25, random_state=31)\n",
    "\n",
    "df = pd.DataFrame(\n",
    "    data = np.c_[x,y],\n",
    "    columns=iris['feature_names']+['target'])\n",
    "df.sample(frac=0.1)\n"
   ]
  },
  {
   "cell_type": "code",
   "execution_count": 118,
   "metadata": {},
   "outputs": [
    {
     "data": {
      "image/png": "[encoded data removed]",
      "text/plain": [
       "<Figure size 432x288 with 1 Axes>"
      ]
     },
     "metadata": {
      "needs_background": "light"
     },
     "output_type": "display_data"
    }
   ],
   "source": [
    "length = df.loc[:, 'petal length (cm)']\n",
    "width = df.loc[:, 'petal width (cm)']\n",
    "\n",
    "plt.scatter(length,width, alpha=0.5)\n",
    "plt.title(\"Petal Length vs Petal Width\")\n",
    "plt.xlabel(\"Length (cm)\")\n",
    "plt.ylabel(\"Width (cm)\")\n",
    "\n",
    "plt.show()"
   ]
  },
  {
   "cell_type": "code",
   "execution_count": 119,
   "metadata": {},
   "outputs": [],
   "source": [
    "from sklearn.tree import DecisionTreeClassifier\n",
    "\n",
    "classifier = DecisionTreeClassifier(max_depth=6)\n",
    "\n",
    "classifier = classifier.fit(x_train,y_train)"
   ]
  },
  {
   "cell_type": "code",
   "execution_count": 120,
   "metadata": {},
   "outputs": [
    {
     "data": {
      "image/svg+xml": "<?xml version=\"1.0\" encoding=\"UTF-8\" standalone=\"no\"?>\n<!DOCTYPE svg PUBLIC \"-//W3C//DTD SVG 1.1//EN\"\n \"http://www.w3.org/Graphics/SVG/1.1/DTD/svg11.dtd\">\n<!-- Generated by graphviz version 2.50.0 (20211204.2007)\n -->\n<!-- Title: Tree Pages: 1 -->\n<svg width=\"590pt\" height=\"491pt\"\n viewBox=\"0.00 0.00 590.00 491.00\" xmlns=\"http://www.w3.org/2000/svg\" xmlns:xlink=\"http://www.w3.org/1999/xlink\">\n<g id=\"graph0\" class=\"graph\" transform=\"scale(1 1) rotate(0) translate(4 487)\">\n<title>Tree</title>\n<polygon fill=\"white\" stroke=\"transparent\" points=\"-4,4 -4,-487 586,-487 586,4 -4,4\"/>\n<!-- 0 -->\n<g id=\"node1\" class=\"node\">\n<title>0</title>\n<polygon fill=\"none\" stroke=\"black\" points=\"261,-483 124,-483 124,-430 261,-430 261,-483\"/>\n<text text-anchor=\"middle\" x=\"192.5\" y=\"-467.8\" font-family=\"Helvetica,sans-Serif\" font-size=\"14.00\">X[3] &lt;= 0.75</text>\n<text text-anchor=\"middle\" x=\"192.5\" y=\"-452.8\" font-family=\"Helvetica,sans-Serif\" font-size=\"14.00\">samples = 112</text>\n<text text-anchor=\"middle\" x=\"192.5\" y=\"-437.8\" font-family=\"Helvetica,sans-Serif\" font-size=\"14.00\">value = [39, 34, 39]</text>\n</g>\n<!-- 1 -->\n<g id=\"node2\" class=\"node\">\n<title>1</title>\n<polygon fill=\"none\" stroke=\"black\" points=\"182,-386.5 61,-386.5 61,-348.5 182,-348.5 182,-386.5\"/>\n<text text-anchor=\"middle\" x=\"121.5\" y=\"-371.3\" font-family=\"Helvetica,sans-Serif\" font-size=\"14.00\">samples = 39</text>\n<text text-anchor=\"middle\" x=\"121.5\" y=\"-356.3\" font-family=\"Helvetica,sans-Serif\" font-size=\"14.00\">value = [39, 0, 0]</text>\n</g>\n<!-- 0&#45;&gt;1 -->\n<g id=\"edge1\" class=\"edge\">\n<title>0&#45;&gt;1</title>\n<path fill=\"none\" stroke=\"black\" d=\"M171.58,-429.87C162.43,-418.66 151.72,-405.53 142.55,-394.29\"/>\n<polygon fill=\"black\" stroke=\"black\" points=\"145.23,-392.04 136.2,-386.51 139.81,-396.47 145.23,-392.04\"/>\n<text text-anchor=\"middle\" x=\"133.68\" y=\"-407.68\" font-family=\"Helvetica,sans-Serif\" font-size=\"14.00\">True</text>\n</g>\n<!-- 2 -->\n<g id=\"node3\" class=\"node\">\n<title>2</title>\n<polygon fill=\"none\" stroke=\"black\" points=\"329,-394 200,-394 200,-341 329,-341 329,-394\"/>\n<text text-anchor=\"middle\" x=\"264.5\" y=\"-378.8\" font-family=\"Helvetica,sans-Serif\" font-size=\"14.00\">X[2] &lt;= 4.85</text>\n<text text-anchor=\"middle\" x=\"264.5\" y=\"-363.8\" font-family=\"Helvetica,sans-Serif\" font-size=\"14.00\">samples = 73</text>\n<text text-anchor=\"middle\" x=\"264.5\" y=\"-348.8\" font-family=\"Helvetica,sans-Serif\" font-size=\"14.00\">value = [0, 34, 39]</text>\n</g>\n<!-- 0&#45;&gt;2 -->\n<g id=\"edge2\" class=\"edge\">\n<title>0&#45;&gt;2</title>\n<path fill=\"none\" stroke=\"black\" d=\"M213.71,-429.87C220.9,-421.18 229.04,-411.35 236.66,-402.14\"/>\n<polygon fill=\"black\" stroke=\"black\" points=\"239.51,-404.19 243.19,-394.25 234.12,-399.72 239.51,-404.19\"/>\n<text text-anchor=\"middle\" x=\"245.54\" y=\"-415.44\" font-family=\"Helvetica,sans-Serif\" font-size=\"14.00\">False</text>\n</g>\n<!-- 3 -->\n<g id=\"node4\" class=\"node\">\n<title>3</title>\n<polygon fill=\"none\" stroke=\"black\" points=\"255,-305 134,-305 134,-252 255,-252 255,-305\"/>\n<text text-anchor=\"middle\" x=\"194.5\" y=\"-289.8\" font-family=\"Helvetica,sans-Serif\" font-size=\"14.00\">X[3] &lt;= 1.65</text>\n<text text-anchor=\"middle\" x=\"194.5\" y=\"-274.8\" font-family=\"Helvetica,sans-Serif\" font-size=\"14.00\">samples = 34</text>\n<text text-anchor=\"middle\" x=\"194.5\" y=\"-259.8\" font-family=\"Helvetica,sans-Serif\" font-size=\"14.00\">value = [0, 32, 2]</text>\n</g>\n<!-- 2&#45;&gt;3 -->\n<g id=\"edge3\" class=\"edge\">\n<title>2&#45;&gt;3</title>\n<path fill=\"none\" stroke=\"black\" d=\"M243.88,-340.87C236.89,-332.18 228.98,-322.35 221.57,-313.14\"/>\n<polygon fill=\"black\" stroke=\"black\" points=\"224.21,-310.85 215.22,-305.25 218.76,-315.24 224.21,-310.85\"/>\n</g>\n<!-- 8 -->\n<g id=\"node9\" class=\"node\">\n<title>8</title>\n<polygon fill=\"none\" stroke=\"black\" points=\"394,-305 273,-305 273,-252 394,-252 394,-305\"/>\n<text text-anchor=\"middle\" x=\"333.5\" y=\"-289.8\" font-family=\"Helvetica,sans-Serif\" font-size=\"14.00\">X[3] &lt;= 1.75</text>\n<text text-anchor=\"middle\" x=\"333.5\" y=\"-274.8\" font-family=\"Helvetica,sans-Serif\" font-size=\"14.00\">samples = 39</text>\n<text text-anchor=\"middle\" x=\"333.5\" y=\"-259.8\" font-family=\"Helvetica,sans-Serif\" font-size=\"14.00\">value = [0, 2, 37]</text>\n</g>\n<!-- 2&#45;&gt;8 -->\n<g id=\"edge8\" class=\"edge\">\n<title>2&#45;&gt;8</title>\n<path fill=\"none\" stroke=\"black\" d=\"M284.83,-340.87C291.72,-332.18 299.52,-322.35 306.82,-313.14\"/>\n<polygon fill=\"black\" stroke=\"black\" points=\"309.61,-315.26 313.08,-305.25 304.12,-310.91 309.61,-315.26\"/>\n</g>\n<!-- 4 -->\n<g id=\"node5\" class=\"node\">\n<title>4</title>\n<polygon fill=\"none\" stroke=\"black\" points=\"121,-208.5 0,-208.5 0,-170.5 121,-170.5 121,-208.5\"/>\n<text text-anchor=\"middle\" x=\"60.5\" y=\"-193.3\" font-family=\"Helvetica,sans-Serif\" font-size=\"14.00\">samples = 31</text>\n<text text-anchor=\"middle\" x=\"60.5\" y=\"-178.3\" font-family=\"Helvetica,sans-Serif\" font-size=\"14.00\">value = [0, 31, 0]</text>\n</g>\n<!-- 3&#45;&gt;4 -->\n<g id=\"edge4\" class=\"edge\">\n<title>3&#45;&gt;4</title>\n<path fill=\"none\" stroke=\"black\" d=\"M155.02,-251.87C136.58,-239.89 114.77,-225.73 96.74,-214.03\"/>\n<polygon fill=\"black\" stroke=\"black\" points=\"98.53,-211.02 88.23,-208.51 94.72,-216.89 98.53,-211.02\"/>\n</g>\n<!-- 5 -->\n<g id=\"node6\" class=\"node\">\n<title>5</title>\n<polygon fill=\"none\" stroke=\"black\" points=\"252,-216 139,-216 139,-163 252,-163 252,-216\"/>\n<text text-anchor=\"middle\" x=\"195.5\" y=\"-200.8\" font-family=\"Helvetica,sans-Serif\" font-size=\"14.00\">X[1] &lt;= 3.0</text>\n<text text-anchor=\"middle\" x=\"195.5\" y=\"-185.8\" font-family=\"Helvetica,sans-Serif\" font-size=\"14.00\">samples = 3</text>\n<text text-anchor=\"middle\" x=\"195.5\" y=\"-170.8\" font-family=\"Helvetica,sans-Serif\" font-size=\"14.00\">value = [0, 1, 2]</text>\n</g>\n<!-- 3&#45;&gt;5 -->\n<g id=\"edge5\" class=\"edge\">\n<title>3&#45;&gt;5</title>\n<path fill=\"none\" stroke=\"black\" d=\"M194.79,-251.87C194.89,-243.89 194.99,-234.93 195.09,-226.38\"/>\n<polygon fill=\"black\" stroke=\"black\" points=\"198.59,-226.29 195.2,-216.25 191.59,-226.21 198.59,-226.29\"/>\n</g>\n<!-- 6 -->\n<g id=\"node7\" class=\"node\">\n<title>6</title>\n<polygon fill=\"none\" stroke=\"black\" points=\"122,-119.5 9,-119.5 9,-81.5 122,-81.5 122,-119.5\"/>\n<text text-anchor=\"middle\" x=\"65.5\" y=\"-104.3\" font-family=\"Helvetica,sans-Serif\" font-size=\"14.00\">samples = 2</text>\n<text text-anchor=\"middle\" x=\"65.5\" y=\"-89.3\" font-family=\"Helvetica,sans-Serif\" font-size=\"14.00\">value = [0, 0, 2]</text>\n</g>\n<!-- 5&#45;&gt;6 -->\n<g id=\"edge6\" class=\"edge\">\n<title>5&#45;&gt;6</title>\n<path fill=\"none\" stroke=\"black\" d=\"M157.2,-162.87C139.47,-151 118.53,-136.99 101.14,-125.35\"/>\n<polygon fill=\"black\" stroke=\"black\" points=\"102.66,-122.16 92.41,-119.51 98.77,-127.98 102.66,-122.16\"/>\n</g>\n<!-- 7 -->\n<g id=\"node8\" class=\"node\">\n<title>7</title>\n<polygon fill=\"none\" stroke=\"black\" points=\"253,-119.5 140,-119.5 140,-81.5 253,-81.5 253,-119.5\"/>\n<text text-anchor=\"middle\" x=\"196.5\" y=\"-104.3\" font-family=\"Helvetica,sans-Serif\" font-size=\"14.00\">samples = 1</text>\n<text text-anchor=\"middle\" x=\"196.5\" y=\"-89.3\" font-family=\"Helvetica,sans-Serif\" font-size=\"14.00\">value = [0, 1, 0]</text>\n</g>\n<!-- 5&#45;&gt;7 -->\n<g id=\"edge7\" class=\"edge\">\n<title>5&#45;&gt;7</title>\n<path fill=\"none\" stroke=\"black\" d=\"M195.79,-162.87C195.91,-152.42 196.05,-140.3 196.18,-129.61\"/>\n<polygon fill=\"black\" stroke=\"black\" points=\"199.68,-129.55 196.29,-119.51 192.68,-129.47 199.68,-129.55\"/>\n</g>\n<!-- 9 -->\n<g id=\"node10\" class=\"node\">\n<title>9</title>\n<polygon fill=\"none\" stroke=\"black\" points=\"386,-216 273,-216 273,-163 386,-163 386,-216\"/>\n<text text-anchor=\"middle\" x=\"329.5\" y=\"-200.8\" font-family=\"Helvetica,sans-Serif\" font-size=\"14.00\">X[0] &lt;= 6.5</text>\n<text text-anchor=\"middle\" x=\"329.5\" y=\"-185.8\" font-family=\"Helvetica,sans-Serif\" font-size=\"14.00\">samples = 5</text>\n<text text-anchor=\"middle\" x=\"329.5\" y=\"-170.8\" font-family=\"Helvetica,sans-Serif\" font-size=\"14.00\">value = [0, 2, 3]</text>\n</g>\n<!-- 8&#45;&gt;9 -->\n<g id=\"edge9\" class=\"edge\">\n<title>8&#45;&gt;9</title>\n<path fill=\"none\" stroke=\"black\" d=\"M332.32,-251.87C331.95,-243.89 331.54,-234.93 331.15,-226.38\"/>\n<polygon fill=\"black\" stroke=\"black\" points=\"334.64,-226.08 330.68,-216.25 327.65,-226.4 334.64,-226.08\"/>\n</g>\n<!-- 14 -->\n<g id=\"node15\" class=\"node\">\n<title>14</title>\n<polygon fill=\"none\" stroke=\"black\" points=\"525,-208.5 404,-208.5 404,-170.5 525,-170.5 525,-208.5\"/>\n<text text-anchor=\"middle\" x=\"464.5\" y=\"-193.3\" font-family=\"Helvetica,sans-Serif\" font-size=\"14.00\">samples = 34</text>\n<text text-anchor=\"middle\" x=\"464.5\" y=\"-178.3\" font-family=\"Helvetica,sans-Serif\" font-size=\"14.00\">value = [0, 0, 34]</text>\n</g>\n<!-- 8&#45;&gt;14 -->\n<g id=\"edge14\" class=\"edge\">\n<title>8&#45;&gt;14</title>\n<path fill=\"none\" stroke=\"black\" d=\"M372.1,-251.87C389.96,-240 411.06,-225.99 428.59,-214.35\"/>\n<polygon fill=\"black\" stroke=\"black\" points=\"430.99,-216.95 437.39,-208.51 427.12,-211.12 430.99,-216.95\"/>\n</g>\n<!-- 10 -->\n<g id=\"node11\" class=\"node\">\n<title>10</title>\n<polygon fill=\"none\" stroke=\"black\" points=\"386,-119.5 273,-119.5 273,-81.5 386,-81.5 386,-119.5\"/>\n<text text-anchor=\"middle\" x=\"329.5\" y=\"-104.3\" font-family=\"Helvetica,sans-Serif\" font-size=\"14.00\">samples = 2</text>\n<text text-anchor=\"middle\" x=\"329.5\" y=\"-89.3\" font-family=\"Helvetica,sans-Serif\" font-size=\"14.00\">value = [0, 0, 2]</text>\n</g>\n<!-- 9&#45;&gt;10 -->\n<g id=\"edge10\" class=\"edge\">\n<title>9&#45;&gt;10</title>\n<path fill=\"none\" stroke=\"black\" d=\"M329.5,-162.87C329.5,-152.42 329.5,-140.3 329.5,-129.61\"/>\n<polygon fill=\"black\" stroke=\"black\" points=\"333,-129.51 329.5,-119.51 326,-129.51 333,-129.51\"/>\n</g>\n<!-- 11 -->\n<g id=\"node12\" class=\"node\">\n<title>11</title>\n<polygon fill=\"none\" stroke=\"black\" points=\"517,-127 404,-127 404,-74 517,-74 517,-127\"/>\n<text text-anchor=\"middle\" x=\"460.5\" y=\"-111.8\" font-family=\"Helvetica,sans-Serif\" font-size=\"14.00\">X[0] &lt;= 7.05</text>\n<text text-anchor=\"middle\" x=\"460.5\" y=\"-96.8\" font-family=\"Helvetica,sans-Serif\" font-size=\"14.00\">samples = 3</text>\n<text text-anchor=\"middle\" x=\"460.5\" y=\"-81.8\" font-family=\"Helvetica,sans-Serif\" font-size=\"14.00\">value = [0, 2, 1]</text>\n</g>\n<!-- 9&#45;&gt;11 -->\n<g id=\"edge11\" class=\"edge\">\n<title>9&#45;&gt;11</title>\n<path fill=\"none\" stroke=\"black\" d=\"M368.1,-162.87C382.23,-153.48 398.38,-142.75 413.19,-132.92\"/>\n<polygon fill=\"black\" stroke=\"black\" points=\"415.33,-135.7 421.73,-127.25 411.46,-129.87 415.33,-135.7\"/>\n</g>\n<!-- 12 -->\n<g id=\"node13\" class=\"node\">\n<title>12</title>\n<polygon fill=\"none\" stroke=\"black\" points=\"451,-38 338,-38 338,0 451,0 451,-38\"/>\n<text text-anchor=\"middle\" x=\"394.5\" y=\"-22.8\" font-family=\"Helvetica,sans-Serif\" font-size=\"14.00\">samples = 2</text>\n<text text-anchor=\"middle\" x=\"394.5\" y=\"-7.8\" font-family=\"Helvetica,sans-Serif\" font-size=\"14.00\">value = [0, 2, 0]</text>\n</g>\n<!-- 11&#45;&gt;12 -->\n<g id=\"edge12\" class=\"edge\">\n<title>11&#45;&gt;12</title>\n<path fill=\"none\" stroke=\"black\" d=\"M439.25,-73.91C431.87,-65.01 423.58,-55.03 416.16,-46.09\"/>\n<polygon fill=\"black\" stroke=\"black\" points=\"418.72,-43.7 409.64,-38.24 413.34,-48.17 418.72,-43.7\"/>\n</g>\n<!-- 13 -->\n<g id=\"node14\" class=\"node\">\n<title>13</title>\n<polygon fill=\"none\" stroke=\"black\" points=\"582,-38 469,-38 469,0 582,0 582,-38\"/>\n<text text-anchor=\"middle\" x=\"525.5\" y=\"-22.8\" font-family=\"Helvetica,sans-Serif\" font-size=\"14.00\">samples = 1</text>\n<text text-anchor=\"middle\" x=\"525.5\" y=\"-7.8\" font-family=\"Helvetica,sans-Serif\" font-size=\"14.00\">value = [0, 0, 1]</text>\n</g>\n<!-- 11&#45;&gt;13 -->\n<g id=\"edge13\" class=\"edge\">\n<title>11&#45;&gt;13</title>\n<path fill=\"none\" stroke=\"black\" d=\"M481.42,-73.91C488.7,-65.01 496.86,-55.03 504.17,-46.09\"/>\n<polygon fill=\"black\" stroke=\"black\" points=\"506.97,-48.2 510.59,-38.24 501.55,-43.77 506.97,-48.2\"/>\n</g>\n</g>\n</svg>\n",
      "text/plain": [
       "<graphviz.sources.Source at 0x18f8a84b3d0>"
      ]
     },
     "execution_count": 120,
     "metadata": {},
     "output_type": "execute_result"
    }
   ],
   "source": [
    "from sklearn import tree\n",
    "import graphviz\n",
    "dot_data = tree.export_graphviz(classifier, out_file=None, impurity=False)\n",
    "graph = graphviz.Source(dot_data)\n",
    "graph\n"
   ]
  },
  {
   "cell_type": "code",
   "execution_count": 121,
   "metadata": {},
   "outputs": [
    {
     "name": "stdout",
     "output_type": "stream",
     "text": [
      "[1 2 0 1 2 0 2 1 0 0 2 1 2 0 2 2 2 1 2 0 2 2 0 2 1 0 1 1 1 1 0 0 1 1 1 0 1\n",
      " 2]\n",
      "0.9473684210526315\n"
     ]
    },
    {
     "data": {
      "image/png": "[encoded data removed]",
      "text/plain": [
       "<Figure size 432x288 with 1 Axes>"
      ]
     },
     "metadata": {
      "needs_background": "light"
     },
     "output_type": "display_data"
    }
   ],
   "source": [
    "y_predict = classifier.predict(x_test)\n",
    "print(y_predict)\n",
    "accuracy = classifier.score(x_test, y_test)\n",
    "print(accuracy)\n",
    "length = x_test[:, 2]\n",
    "width = x_test[:, 3]\n",
    "\n",
    "plt.scatter(length,width, c=y_predict, alpha=0.5)\n",
    "plt.title(\"Petal Length vs Petal Width\")\n",
    "plt.xlabel(\"Length (cm)\")\n",
    "plt.ylabel(\"Width (cm)\")\n",
    "\n",
    "plt.show()"
   ]
  }
 ],
 "metadata": {
  "interpreter": {
   "hash": "63fd5069d213b44bf678585dea6b12cceca9941eaf7f819626cde1f2670de90d"
  },
  "kernelspec": {
   "display_name": "Python 3.9.5 64-bit",
   "language": "python",
   "name": "python3"
  },
  "language_info": {
   "codemirror_mode": {
    "name": "ipython",
    "version": 3
   },
   "file_extension": ".py",
   "mimetype": "text/x-python",
   "name": "python",
   "nbconvert_exporter": "python",
   "pygments_lexer": "ipython3",
   "version": "3.9.5"
  },
  "orig_nbformat": 4
 },
 "nbformat": 4,
 "nbformat_minor": 2
}
